{
 "cells": [
  {
   "cell_type": "code",
   "execution_count": null,
   "metadata": {},
   "outputs": [],
   "source": [
    "#| hide\n",
    "from AgentBasedModelling.Person import *"
   ]
  },
  {
   "attachments": {},
   "cell_type": "markdown",
   "metadata": {},
   "source": [
    "# Agent Based Modelling Assignment\n",
    "> Define and implement an Agent Based Model of a virus spread among a group or between groups of people\n",
    "\n",
    "## About the Project\n",
    "You can use an Agent based simulator, written in Python and covered during lectures, as a basis of your model (https://github.com/hsayama/PyCX), but you are also free to implement your own programme, in a programming language of choice. The only restrictions is that you cannot use any of the existing ABM frameworks listed in lecture materials and also here e.g. https://github.com/hsayama/PyCX\n",
    "\n",
    "---\n",
    "## Model Requirements\n",
    "Your model needs to satisfy the following properties:\n",
    "- [ ] A clear documentation outlining the model, its purpose and rules (how) and reasons (why) for underlying agent behaviour, as well as the intended output results of the simulation and the reason for tracking those. Tracking several output results is preferable. The documentation should also report results of running the model under several parameter scenarios and the observed outcomes.\n",
    "- [ ] The code of the model should be well-structured and documented.\n",
    "- [ ] The model should have an easy to run command-line or GUI that allows for changing the initial values of simulation parameters (the more parameters investigated the better, within reason).\n",
    "- [ ] The model must have a graphical display (2D or 3D) that allows for visual simulation of agent behaviour over time.\n",
    "- [ ] The model must have the ability to output results as time-based graphs (e.g. number of infected people over time or average vehicle speed over time, etc.).\n",
    "- [ ] Your documentation should be professional, self-contained i.e. contain all the relevant information and outputs and it should not exceed 8 pages in total (any code can be uploaded on GitLab).\n",
    "- [ ] Your final submission should contain report with all the details outlined above, link to the code and readme file explaining how to run the simulation.\n",
    "---\n",
    "## Project Highlights\n",
    "1. \n",
    "\n",
    "---\n",
    "### Recommended Steps:\n",
    "\n",
    "1. Pass\n",
    "\n",
    "---\n",
    "## Project Directory Structure\n",
    "```\n",
    "./\n",
    "├── .git\n",
    "├── .gitignore\n",
    "└── code\n",
    "|    ├── InitialPopulationStatistics.py\n",
    "|    └── ETC\n",
    "└── Data\n",
    "    ├── CSO_birthRate_2020.csv\n",
    "    ├── CSO_census_2016.csv\n",
    "    ├── HSPC_covidDeath_2020_2023.csv\n",
    "    ├──\n",
    "    └── initial_population_characteristics.json\n",
    "```\n",
    " \n",
    " Data can be found through the links below:\n",
    " 1. [CSO 2020 Birth Data](https://data.cso.ie/table/VSA36)\n",
    " 2. [CSO 2016 Census Data](https://data.cso.ie/table/E3001)\n",
    " 3. [HSPC 2020-2023 Covid Data](https://www.hpsc.ie/a-z/respiratory/coronavirus/novelcoronavirus/surveillance/covid-19deathsreportedinireland/COVID-19_Death_Report_Website_v1.8_06032023.pdf)\n",
    " "
   ]
  }
 ],
 "metadata": {
  "kernelspec": {
   "display_name": "Python 3 (ipykernel)",
   "language": "python",
   "name": "python3"
  }
 },
 "nbformat": 4,
 "nbformat_minor": 4
}
