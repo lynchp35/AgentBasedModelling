{
 "cells": [
  {
   "attachments": {},
   "cell_type": "markdown",
   "metadata": {},
   "source": [
    "# Virus Model\n",
    "> Defines a model for modelling the outbreak of a virus"
   ]
  },
  {
   "cell_type": "code",
   "execution_count": 5,
   "metadata": {},
   "outputs": [],
   "source": [
    "#| default_exp VirusModel"
   ]
  },
  {
   "cell_type": "code",
   "execution_count": 6,
   "metadata": {},
   "outputs": [],
   "source": [
    "#| hide\n",
    "from nbdev.showdoc import *"
   ]
  },
  {
   "cell_type": "code",
   "execution_count": 7,
   "metadata": {},
   "outputs": [],
   "source": [
    "#| export\n",
    "from mesa import Agent, Model\n",
    "from mesa.time import RandomActivation\n",
    "from mesa.space import MultiGrid\n",
    "from mesa.datacollection import DataCollector\n",
    "import random"
   ]
  },
  {
   "cell_type": "code",
   "execution_count": 8,
   "metadata": {},
   "outputs": [],
   "source": [
    "#| export\n",
    "class VirusModel(Model):\n",
    "    '''A model of virus spread through a population'''\n",
    "    def __init__(self, width, height, initial_infected, recovery_rate):\n",
    "        self.num_agents = width * height\n",
    "        self.grid = MultiGrid(width, height, torus=True)\n",
    "        self.schedule = RandomActivation(self)\n",
    "        self.recovery_rate = recovery_rate\n",
    "\n",
    "        # Create agents\n",
    "        for i in range(self.num_agents):\n",
    "            person = Person(i, self)\n",
    "            self.schedule.add(person)\n",
    "            # Place the person randomly on the grid\n",
    "            x = random.randrange(self.grid.width)\n",
    "            y = random.randrange(self.grid.height)\n",
    "            self.grid.place_agent(person, (x, y))\n",
    "            # Infect some initial agents\n",
    "            if i < initial_infected:\n",
    "                person.infect()\n",
    "\n",
    "        # Data collector for graphing results\n",
    "        self.datacollector = DataCollector(\n",
    "            {'Infected': lambda m: sum([1 for a in m.schedule.agents if a.infected]),\n",
    "             'Immune': lambda m: sum([1 for a in m.schedule.agents if a.immune]),\n",
    "             'Susceptible': lambda m: sum([1 for a in m.schedule.agents if not a.infected and not a.immune])}\n",
    "        )\n",
    "\n",
    "    def step(self):\n",
    "        '''Advance the model by one step in time'''\n",
    "        self.datacollector.collect(self)\n",
    "        self.schedule.step()\n",
    "        # Randomly recover some infected agents\n",
    "        for agent in self.schedule.agents:\n",
    "            if agent.infected and random.uniform(0, 1) < self.recovery_rate:\n",
    "                agent.immune = True\n",
    "                agent.infected = False"
   ]
  },
  {
   "cell_type": "code",
   "execution_count": 10,
   "metadata": {},
   "outputs": [],
   "source": [
    "#| hide\n",
    "import nbdev; nbdev.nbdev_export()"
   ]
  }
 ],
 "metadata": {
  "kernelspec": {
   "display_name": "Python 3 (ipykernel)",
   "language": "python",
   "name": "python3"
  },
  "language_info": {
   "codemirror_mode": {
    "name": "ipython",
    "version": 3
   },
   "file_extension": ".py",
   "mimetype": "text/x-python",
   "name": "python",
   "nbconvert_exporter": "python",
   "pygments_lexer": "ipython3",
   "version": "3.10.9"
  },
  "orig_nbformat": 4
 },
 "nbformat": 4,
 "nbformat_minor": 2
}
