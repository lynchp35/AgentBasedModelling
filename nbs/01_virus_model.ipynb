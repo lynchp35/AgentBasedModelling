{
 "cells": [
  {
   "attachments": {},
   "cell_type": "markdown",
   "metadata": {},
   "source": [
    "# Virus Model\n",
    "> Defines a model for modelling the outbreak of a virus"
   ]
  },
  {
   "cell_type": "code",
   "execution_count": 5,
   "metadata": {},
   "outputs": [],
   "source": [
    "#| default_exp VirusModel"
   ]
  },
  {
   "cell_type": "code",
   "execution_count": 6,
   "metadata": {},
   "outputs": [],
   "source": [
    "#| hide\n",
    "from nbdev.showdoc import *"
   ]
  },
  {
   "cell_type": "code",
   "execution_count": null,
   "metadata": {},
   "outputs": [],
   "source": [
    "#| export\n",
    "from AgentBasedModelling.Person import *\n"
   ]
  },
  {
   "cell_type": "code",
   "execution_count": 8,
   "metadata": {},
   "outputs": [],
   "source": [
    "#| export\n",
    "class VirusModel(Model):\n",
    "    '''A model of virus spread through a population'''\n",
    "    def __init__(self, width, height, num_agents, initial_infected, infection_rate, recovery_rate):\n",
    "        self.time = 0\n",
    "        self.height = height\n",
    "        self.width = width\n",
    "        self.num_agents = num_agents\n",
    "        self.initial_infected = initial_infected\n",
    "        self.infection_rate = infection_rate\n",
    "        self.recovery_rate = recovery_rate\n",
    "        self.agents = {}\n",
    "\n",
    "    def initialise(self):\n",
    "        # initialize agents\n",
    "        selfagents = []\n",
    "        for i in range(self.num_agents()):\n",
    "            if i < numInfected():\n",
    "                state = infected\n",
    "            else:\n",
    "                state = uninfected\n",
    "            agents.append([uniform(0, width()), uniform(0, height()), state, 0])"
   ]
  },
  {
   "cell_type": "code",
   "execution_count": null,
   "metadata": {},
   "outputs": [],
   "source": [
    "# population parameters\n",
    "def num_agents(n=1000):\n",
    "    '''Returns the initial population size'''\n",
    "    return int(n)\n",
    "\n",
    "def num_infected(n=5):\n",
    "    '''Returns the initial number of infected people'''\n",
    "    return int(n)\n",
    "\n",
    "def infection_rate(p=0.1):\n",
    "    '''Returns the initial infection rate'''\n",
    "    return float(p)\n",
    "\n",
    "def recovery_rate(p=0.2):\n",
    "    '''Returns the initial recovery rate'''\n",
    "    return float(p)\n",
    "\n",
    "# simulation parameters\n",
    "def width(n=500):\n",
    "    '''Returns the grid width'''\n",
    "    return int(n)\n",
    "\n",
    "def height(n=500):\n",
    "    '''Returns the grid height'''\n",
    "    return int(n)\n",
    "    \n",
    "def infection_distance(n=2):\n",
    "    '''Returns the infection proximity'''\n",
    "    return int(n)"
   ]
  },
  {
   "cell_type": "code",
   "execution_count": null,
   "metadata": {},
   "outputs": [],
   "source": [
    "#| export\n",
    "model = VirusModel(width(), height(),....)\n",
    "parameters = [\n",
    "    # Simulation parameters\n",
    "    model.set_height, width, populationSize, numInfected,\n",
    "    infectionDistance, infectionRate, recoveryRate\n",
    "]\n",
    "pycxsimulator.GUI(parameterSetters=parameters).start(func=[initialize, observe, update])"
   ]
  },
  {
   "cell_type": "code",
   "execution_count": 10,
   "metadata": {},
   "outputs": [],
   "source": [
    "#| hide\n",
    "import nbdev; nbdev.nbdev_export()"
   ]
  }
 ],
 "metadata": {
  "kernelspec": {
   "display_name": "Python 3 (ipykernel)",
   "language": "python",
   "name": "python3"
  },
  "language_info": {
   "codemirror_mode": {
    "name": "ipython",
    "version": 3
   },
   "file_extension": ".py",
   "mimetype": "text/x-python",
   "name": "python",
   "nbconvert_exporter": "python",
   "pygments_lexer": "ipython3",
   "version": "3.10.9"
  },
  "orig_nbformat": 4
 },
 "nbformat": 4,
 "nbformat_minor": 2
}
