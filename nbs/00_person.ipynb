{
 "cells": [
  {
   "attachments": {},
   "cell_type": "markdown",
   "metadata": {},
   "source": [
    "# Person\n",
    "\n",
    "> Defines a person class to be used when modelling the outbreak of a virus among people"
   ]
  },
  {
   "cell_type": "code",
   "execution_count": 1,
   "metadata": {},
   "outputs": [],
   "source": [
    "#| default_exp Person"
   ]
  },
  {
   "cell_type": "code",
   "execution_count": 2,
   "metadata": {},
   "outputs": [],
   "source": [
    "#| hide\n",
    "from nbdev.showdoc import *"
   ]
  },
  {
   "cell_type": "code",
   "execution_count": 3,
   "metadata": {},
   "outputs": [],
   "source": [
    "#%pip install networkx[default]"
   ]
  },
  {
   "cell_type": "code",
   "execution_count": 4,
   "metadata": {},
   "outputs": [],
   "source": [
    "#| export\n",
    "#%pip install PyQt5"
   ]
  },
  {
   "cell_type": "code",
   "execution_count": 5,
   "metadata": {},
   "outputs": [],
   "source": [
    "#| export\n",
    "#%pip install PySide2"
   ]
  },
  {
   "cell_type": "code",
   "execution_count": 6,
   "metadata": {},
   "outputs": [],
   "source": [
    "#| export\n",
    "import matplotlib\n",
    "import os"
   ]
  },
  {
   "cell_type": "code",
   "execution_count": 7,
   "metadata": {},
   "outputs": [],
   "source": [
    "#| export\n",
    "matplotlib.use('TkAgg')\n",
    "if os.getcwd().split('\\\\')[-1] == 'nbs':\n",
    "    os.chdir('../')"
   ]
  },
  {
   "cell_type": "code",
   "execution_count": 8,
   "metadata": {},
   "outputs": [],
   "source": [
    "#| export\n",
    "import numpy as np\n",
    "import scipy\n",
    "import AgentBasedModelling.pycxsimulator\n",
    "from pylab import *"
   ]
  },
  {
   "attachments": {},
   "cell_type": "markdown",
   "metadata": {},
   "source": [
    "### Initialize State"
   ]
  },
  {
   "cell_type": "code",
   "execution_count": null,
   "metadata": {},
   "outputs": [],
   "source": [
    "#| export\n",
    "import json\n",
    "import random\n",
    "\n",
    "class Person():\n",
    "    \"\"\"\n",
    "    This class set ups the initial values for agents in our system.\n",
    "    \"\"\"\n",
    "    global PersonID\n",
    "    PersonID = 1\n",
    "    def __init__(self, sex_probability:dict, age_probability:dict, fertility_rate:dict, mortality_rate:dict) -> None:\n",
    "        global PersonID\n",
    "        self.id = PersonID\n",
    "        # Assigns a random age and sex based on the Irish population census data\n",
    "        self.age = return_random_choice(age_probability) \n",
    "        self.sex = return_random_choice(sex_probability)\n",
    "        # Assigns the fertility_rate, mortality_rate based on the average for a person that age.\n",
    "        self.fertility_rate = 0 if self.sex == \"Male\" else fertility_rate.get(self.age, 0)\n",
    "        self.mortality_rate = mortality_rate.get(self.age, 0)\n",
    "\n",
    "        # Covid Variables\n",
    "        self.vaccinated = 0 # unvaccinated, vaccinated, one booster = 0, 1, 2\n",
    "        self.infected = 0 # uninfected, is infected, was infected = 0, 1, 2\n",
    "        \n",
    "        # Position of Person in grid\n",
    "        self.x = random.uniform(0, 999)\n",
    "        self.y = random.uniform(0, 999)\n",
    "\n",
    "        # Other variables ? mobility?\n",
    "        # self.mobility = could be a random int or a fixed variable\n",
    "\n",
    "        \n",
    "        \n",
    "        PersonID += 1\n",
    "    \n",
    "    def __str__(self):\n",
    "        return f\"Person {self.id} is a {self.age} year old {self.sex}.\\n\\\n",
    "They have the fertility_rate {self.fertility_rate} and the mortality_rate {self.mortality_rate}\\n\""
   ]
  },
  {
   "cell_type": "code",
   "execution_count": 9,
   "metadata": {},
   "outputs": [],
   "source": [
    "infectionDistanceSquared = infectionDistance() ** 2\n",
    "\n",
    "# agents state variables\n",
    "uninfected = 0\n",
    "infected = 1\n",
    "recovered = 2\n",
    "\n",
    "# to be removed from the simulation\n",
    "toBeRemoved = -1\n",
    "\n",
    "def initialize():\n",
    "    global time, agents\n",
    "    \n",
    "    time = 0\n",
    "    \n",
    "    # initialize agents\n",
    "    agents = []\n",
    "    for i in range(populationSize()):\n",
    "        if i < numInfected():\n",
    "            state = infected\n",
    "        else:\n",
    "            state = uninfected\n",
    "        agents.append([uniform(0, width()), uniform(0, height()), state, 0])\n"
   ]
  },
  {
   "attachments": {},
   "cell_type": "markdown",
   "metadata": {},
   "source": [
    "### Observe"
   ]
  },
  {
   "cell_type": "code",
   "execution_count": 10,
   "metadata": {},
   "outputs": [],
   "source": [
    "#| export\n",
    "def observe():\n",
    "    cla()\n",
    "    uninfectedX = [ag[0] for ag in agents if ag[2] == uninfected]\n",
    "    uninfectedY = [ag[1] for ag in agents if ag[2] == uninfected]\n",
    "    infectedX = [ag[0] for ag in agents if ag[2] == infected]\n",
    "    infectedY = [ag[1] for ag in agents if ag[2] == infected]\n",
    "    recoveredX = [ag[0] for ag in agents if ag[2] == recovered]\n",
    "    recoveredY = [ag[1] for ag in agents if ag[2] == recovered]\n",
    "    scatter(uninfectedX, uninfectedY, color = 'cyan')\n",
    "    scatter(infectedX, infectedY, color = 'red')\n",
    "    scatter(recoveredX, recoveredY, color = 'green')\n",
    "    axis('scaled')\n",
    "    axis([0, width(), 0, height()])\n",
    "    title('t = ' + str(time))"
   ]
  },
  {
   "attachments": {},
   "cell_type": "markdown",
   "metadata": {},
   "source": [
    "### Clip"
   ]
  },
  {
   "cell_type": "code",
   "execution_count": 11,
   "metadata": {},
   "outputs": [],
   "source": [
    "#| export\n",
    "def clip(a, amin, amax):\n",
    "    if a < amin: return amin\n",
    "    elif a > amax: return amax\n",
    "    else: return a"
   ]
  },
  {
   "cell_type": "markdown",
   "metadata": {},
   "source": [
    "### Update State"
   ]
  },
  {
   "cell_type": "code",
   "execution_count": 12,
   "metadata": {},
   "outputs": [],
   "source": [
    "#| export\n",
    "def update():\n",
    "    global time, agents\n",
    "\n",
    "    time += 1\n",
    "\n",
    "    # simulate random motion\n",
    "    for ag in agents:\n",
    "        ag[0] += normal(0, 1)\n",
    "        ag[1] += normal(0, 1)\n",
    "        ag[0] = clip(ag[0], 0, width())\n",
    "        ag[1] = clip(ag[1], 0, height())\n",
    "\n",
    "    # detect infection and change state\n",
    "    x, y = 0, 1\n",
    "    for i in range(len(agents)):\n",
    "        if agents[i][2] == infected:\n",
    "            for j in range(len(agents)):\n",
    "                if agents[j][2] == uninfected and (agents[i][x]-agents[j][x])**2 + (agents[i][y]-agents[j][y])**2 < infectionDistanceSquared:\n",
    "                    if random() < infectionRate():\n",
    "                        agents[j][2] = infected\n",
    "                        agents[j][3] = time\n",
    "\n",
    "        if agents[i][2] == infected and random() < recoveryRate():\n",
    "            agents[i][2] = recovered\n",
    "\n",
    "    # remove \"toBeRemoved\" agents\n",
    "    while toBeRemoved in [ag[2] for ag in agents]:\n",
    "        for ag in agents:\n",
    "            if ag[2] == toBeRemoved:\n",
    "                agents.remove(ag)\n",
    "                break"
   ]
  },
  {
   "attachments": {},
   "cell_type": "markdown",
   "metadata": {},
   "source": [
    "### Running the Simulation"
   ]
  },
  {
   "cell_type": "code",
   "execution_count": 13,
   "metadata": {},
   "outputs": [],
   "source": [
    "#| export\n",
    "parameters = [\n",
    "    # Simulation parameters\n",
    "    height, width, populationSize, numInfected,\n",
    "    infectionDistance, infectionRate, recoveryRate\n",
    "]\n",
    "pycxsimulator.GUI(parameterSetters=parameters).start(func=[initialize, observe, update])"
   ]
  },
  {
   "attachments": {},
   "cell_type": "markdown",
   "metadata": {},
   "source": [
    "# Implementation Using Mesa"
   ]
  },
  {
   "cell_type": "code",
   "execution_count": 3,
   "metadata": {},
   "outputs": [
    {
     "name": "stdout",
     "output_type": "stream",
     "text": [
      "Note: you may need to restart the kernel to use updated packages.\n"
     ]
    }
   ],
   "source": [
    "%pip install -Uqq mesa"
   ]
  },
  {
   "cell_type": "code",
   "execution_count": 4,
   "metadata": {},
   "outputs": [],
   "source": [
    "#| export\n",
    "from mesa import Agent, Model\n",
    "from mesa.time import RandomActivation\n",
    "from mesa.space import MultiGrid\n",
    "from mesa.datacollection import DataCollector\n",
    "import random"
   ]
  },
  {
   "cell_type": "code",
   "execution_count": null,
   "metadata": {},
   "outputs": [],
   "source": [
    "#| export\n",
    "class Person(Agent):\n",
    "    '''A person who can become infected or immune'''\n",
    "    def __init__(self, unique_id, model):\n",
    "        super().__init__(unique_id, model)\n",
    "        self.infected = False\n",
    "        self.immune = False\n",
    "\n",
    "    def move(self):\n",
    "        '''Move the person to a neighboring cell'''\n",
    "        possible_steps = self.model.grid.get_neighborhood(\n",
    "            self.pos,\n",
    "            moore=True,\n",
    "            include_center=False\n",
    "        )\n",
    "        new_position = random.choice(possible_steps)\n",
    "        self.model.grid.move_agent(self, new_position)\n",
    "\n",
    "    def infect(self):\n",
    "        '''Infect the person'''\n",
    "        self.infected = True\n",
    "\n",
    "    def step(self):\n",
    "        '''Advance the person by one step in time'''\n",
    "        self.move()\n",
    "        if self.infected:\n",
    "            self.immune = True\n",
    "            self.infected = False"
   ]
  },
  {
   "cell_type": "code",
   "execution_count": null,
   "metadata": {},
   "outputs": [],
   "source": [
    "#| hide\n",
    "import nbdev; nbdev.nbdev_export()"
   ]
  }
 ],
 "metadata": {
  "kernelspec": {
   "display_name": "Python 3 (ipykernel)",
   "language": "python",
   "name": "python3"
  },
  "language_info": {
   "codemirror_mode": {
    "name": "ipython",
    "version": 3
   },
   "file_extension": ".py",
   "mimetype": "text/x-python",
   "name": "python",
   "nbconvert_exporter": "python",
   "pygments_lexer": "ipython3",
   "version": "3.9.0"
  }
 },
 "nbformat": 4,
 "nbformat_minor": 4
}
