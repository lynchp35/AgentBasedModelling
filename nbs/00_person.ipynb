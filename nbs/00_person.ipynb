{
 "cells": [
  {
   "attachments": {},
   "cell_type": "markdown",
   "metadata": {},
   "source": [
    "# Person\n",
    "\n",
    "> Defines a person class to be used when modelling the outbreak of a virus among people"
   ]
  },
  {
   "cell_type": "code",
   "execution_count": 1,
   "metadata": {},
   "outputs": [],
   "source": [
    "#| default_exp Person"
   ]
  },
  {
   "cell_type": "code",
   "execution_count": 2,
   "metadata": {},
   "outputs": [],
   "source": [
    "#| hide\n",
    "from nbdev.showdoc import *"
   ]
  },
  {
   "cell_type": "code",
   "execution_count": 5,
   "metadata": {},
   "outputs": [
    {
     "name": "stdout",
     "output_type": "stream",
     "text": [
      "Requirement already satisfied: networkx[default] in /home/diarmuid/mambaforge/envs/develop/lib/python3.10/site-packages (3.0)\n",
      "Requirement already satisfied: numpy>=1.20 in /home/diarmuid/mambaforge/envs/develop/lib/python3.10/site-packages (from networkx[default]) (1.23.5)\n",
      "Requirement already satisfied: scipy>=1.8 in /home/diarmuid/mambaforge/envs/develop/lib/python3.10/site-packages (from networkx[default]) (1.9.3)\n",
      "Requirement already satisfied: pandas>=1.3 in /home/diarmuid/mambaforge/envs/develop/lib/python3.10/site-packages (from networkx[default]) (1.5.2)\n",
      "Requirement already satisfied: matplotlib>=3.4 in /home/diarmuid/mambaforge/envs/develop/lib/python3.10/site-packages (from networkx[default]) (3.6.2)\n",
      "Requirement already satisfied: fonttools>=4.22.0 in /home/diarmuid/mambaforge/envs/develop/lib/python3.10/site-packages (from matplotlib>=3.4->networkx[default]) (4.25.0)\n",
      "Requirement already satisfied: packaging>=20.0 in /home/diarmuid/mambaforge/envs/develop/lib/python3.10/site-packages (from matplotlib>=3.4->networkx[default]) (22.0)\n",
      "Requirement already satisfied: contourpy>=1.0.1 in /home/diarmuid/mambaforge/envs/develop/lib/python3.10/site-packages (from matplotlib>=3.4->networkx[default]) (1.0.5)\n",
      "Requirement already satisfied: kiwisolver>=1.0.1 in /home/diarmuid/mambaforge/envs/develop/lib/python3.10/site-packages (from matplotlib>=3.4->networkx[default]) (1.4.4)\n",
      "Requirement already satisfied: cycler>=0.10 in /home/diarmuid/mambaforge/envs/develop/lib/python3.10/site-packages (from matplotlib>=3.4->networkx[default]) (0.11.0)\n",
      "Requirement already satisfied: pyparsing>=2.2.1 in /home/diarmuid/mambaforge/envs/develop/lib/python3.10/site-packages (from matplotlib>=3.4->networkx[default]) (3.0.9)\n",
      "Requirement already satisfied: pillow>=6.2.0 in /home/diarmuid/mambaforge/envs/develop/lib/python3.10/site-packages (from matplotlib>=3.4->networkx[default]) (9.3.0)\n",
      "Requirement already satisfied: python-dateutil>=2.7 in /home/diarmuid/mambaforge/envs/develop/lib/python3.10/site-packages (from matplotlib>=3.4->networkx[default]) (2.8.2)\n",
      "Requirement already satisfied: pytz>=2020.1 in /home/diarmuid/mambaforge/envs/develop/lib/python3.10/site-packages (from pandas>=1.3->networkx[default]) (2022.7)\n",
      "Requirement already satisfied: six>=1.5 in /home/diarmuid/mambaforge/envs/develop/lib/python3.10/site-packages (from python-dateutil>=2.7->matplotlib>=3.4->networkx[default]) (1.16.0)\n",
      "Note: you may need to restart the kernel to use updated packages.\n"
     ]
    }
   ],
   "source": [
    "%pip install networkx[default]"
   ]
  },
  {
   "cell_type": "code",
   "execution_count": 2,
   "metadata": {},
   "outputs": [
    {
     "name": "stdout",
     "output_type": "stream",
     "text": [
      "Requirement already satisfied: PyQt5 in /home/diarmuid/mambaforge/envs/develop/lib/python3.10/site-packages (5.15.9)\n",
      "Requirement already satisfied: PyQt5-Qt5>=5.15.2 in /home/diarmuid/mambaforge/envs/develop/lib/python3.10/site-packages (from PyQt5) (5.15.2)\n",
      "Requirement already satisfied: PyQt5-sip<13,>=12.11 in /home/diarmuid/mambaforge/envs/develop/lib/python3.10/site-packages/PyQt5_sip-12.11.0-py3.10-linux-x86_64.egg (from PyQt5) (12.11.0)\n",
      "Note: you may need to restart the kernel to use updated packages.\n"
     ]
    }
   ],
   "source": [
    "#| export\n",
    "%pip install PyQt5"
   ]
  },
  {
   "cell_type": "code",
   "execution_count": 1,
   "metadata": {},
   "outputs": [
    {
     "name": "stdout",
     "output_type": "stream",
     "text": [
      "Requirement already satisfied: PySide2 in /home/diarmuid/mambaforge/envs/develop/lib/python3.10/site-packages (5.15.2.1)\n",
      "Requirement already satisfied: shiboken2==5.15.2.1 in /home/diarmuid/mambaforge/envs/develop/lib/python3.10/site-packages (from PySide2) (5.15.2.1)\n",
      "Note: you may need to restart the kernel to use updated packages.\n"
     ]
    }
   ],
   "source": [
    "#| export\n",
    "%pip install PySide2"
   ]
  },
  {
   "cell_type": "code",
   "execution_count": 1,
   "metadata": {},
   "outputs": [],
   "source": [
    "#| export\n",
    "import matplotlib\n",
    "import os"
   ]
  },
  {
   "cell_type": "code",
   "execution_count": 2,
   "metadata": {},
   "outputs": [],
   "source": [
    "#| export\n",
    "matplotlib.use('TkAgg')\n",
    "if os.getcwd().split('/')[-1] == 'nbs':\n",
    "    os.chdir('../')"
   ]
  },
  {
   "cell_type": "code",
   "execution_count": 3,
   "metadata": {},
   "outputs": [],
   "source": [
    "#| export\n",
    "import numpy as np\n",
    "import scipy\n",
    "import AgentBasedModelling.pycxsimulator as pycxsimulator\n",
    "from pylab import *"
   ]
  },
  {
   "attachments": {},
   "cell_type": "markdown",
   "metadata": {},
   "source": [
    "### Initialize State"
   ]
  },
  {
   "cell_type": "code",
   "execution_count": 4,
   "metadata": {},
   "outputs": [],
   "source": [
    "import matplotlib\n",
    "import os\n",
    "import numpy as np\n",
    "import scipy\n",
    "import pycxsimulator\n",
    "from pylab import *\n",
    "\n",
    "# population parameters\n",
    "def populationSize(n=1000):\n",
    "    '''Returns the initial population size'''\n",
    "    return int(n)\n",
    "\n",
    "def numInfected(n=5):\n",
    "    '''Returns the initial number of infected people'''\n",
    "    return int(n)\n",
    "\n",
    "def infectionRate(p=0.1):\n",
    "    '''Returns the initial infection rate'''\n",
    "    return float(p)\n",
    "\n",
    "def recoveryRate(p=0.2):\n",
    "    '''Returns the initial recovery rate'''\n",
    "    return float(p)\n",
    "\n",
    "# simulation parameters\n",
    "def width(n=500):\n",
    "    '''Returns the grid width'''\n",
    "    return int(n)\n",
    "\n",
    "def height(n=500):\n",
    "    '''Returns the grid height'''\n",
    "    return int(n)\n",
    "    \n",
    "def infectionDistance(n=2):\n",
    "    '''Returns the infection proximity'''\n",
    "    return int(n)\n",
    "\n",
    "infectionDistanceSquared = infectionDistance() ** 2\n",
    "\n",
    "# agents state variables\n",
    "uninfected = 0\n",
    "infected = 1\n",
    "recovered = 2\n",
    "\n",
    "# to be removed from the simulation\n",
    "toBeRemoved = -1\n",
    "\n",
    "def initialize():\n",
    "    global time, agents\n",
    "    \n",
    "    time = 0\n",
    "    \n",
    "    # initialize agents\n",
    "    agents = []\n",
    "    for i in range(populationSize()):\n",
    "        if i < numInfected():\n",
    "            state = infected\n",
    "        else:\n",
    "            state = uninfected\n",
    "        agents.append([uniform(0, width()), uniform(0, height()), state, 0])\n",
    "\n",
    "\n",
    "\n"
   ]
  },
  {
   "attachments": {},
   "cell_type": "markdown",
   "metadata": {},
   "source": [
    "### Observe"
   ]
  },
  {
   "cell_type": "code",
   "execution_count": 5,
   "metadata": {},
   "outputs": [],
   "source": [
    "#| export\n",
    "def observe():\n",
    "    cla()\n",
    "    uninfectedX = [ag[0] for ag in agents if ag[2] == uninfected]\n",
    "    uninfectedY = [ag[1] for ag in agents if ag[2] == uninfected]\n",
    "    infectedX = [ag[0] for ag in agents if ag[2] == infected]\n",
    "    infectedY = [ag[1] for ag in agents if ag[2] == infected]\n",
    "    recoveredX = [ag[0] for ag in agents if ag[2] == recovered]\n",
    "    recoveredY = [ag[1] for ag in agents if ag[2] == recovered]\n",
    "    scatter(uninfectedX, uninfectedY, color = 'cyan')\n",
    "    scatter(infectedX, infectedY, color = 'red')\n",
    "    scatter(recoveredX, recoveredY, color = 'green')\n",
    "    axis('scaled')\n",
    "    axis([0, width(), 0, height()])\n",
    "    title('t = ' + str(time))"
   ]
  },
  {
   "attachments": {},
   "cell_type": "markdown",
   "metadata": {},
   "source": [
    "### Clip"
   ]
  },
  {
   "cell_type": "code",
   "execution_count": 6,
   "metadata": {},
   "outputs": [],
   "source": [
    "#| export\n",
    "def clip(a, amin, amax):\n",
    "    if a < amin: return amin\n",
    "    elif a > amax: return amax\n",
    "    else: return a"
   ]
  },
  {
   "cell_type": "markdown",
   "metadata": {},
   "source": [
    "### Update State"
   ]
  },
  {
   "cell_type": "code",
   "execution_count": 7,
   "metadata": {},
   "outputs": [],
   "source": [
    "#| export\n",
    "def update():\n",
    "    global time, agents\n",
    "\n",
    "    time += 1\n",
    "\n",
    "    # simulate random motion\n",
    "    for ag in agents:\n",
    "        ag[0] += normal(0, 1)\n",
    "        ag[1] += normal(0, 1)\n",
    "        ag[0] = clip(ag[0], 0, width())\n",
    "        ag[1] = clip(ag[1], 0, height())\n",
    "\n",
    "    # detect infection and change state\n",
    "    x, y = 0, 1\n",
    "    for i in range(len(agents)):\n",
    "        if agents[i][2] == infected:\n",
    "            for j in range(len(agents)):\n",
    "                if agents[j][2] == uninfected and (agents[i][x]-agents[j][x])**2 + (agents[i][y]-agents[j][y])**2 < infectionDistanceSquared:\n",
    "                    if random() < infectionRate():\n",
    "                        agents[j][2] = infected\n",
    "                        agents[j][3] = time\n",
    "\n",
    "        if agents[i][2] == infected and random() < recoveryRate():\n",
    "            agents[i][2] = recovered\n",
    "\n",
    "    # remove \"toBeRemoved\" agents\n",
    "    while toBeRemoved in [ag[2] for ag in agents]:\n",
    "        for ag in agents:\n",
    "            if ag[2] == toBeRemoved:\n",
    "                agents.remove(ag)\n",
    "                break"
   ]
  },
  {
   "attachments": {},
   "cell_type": "markdown",
   "metadata": {},
   "source": [
    "### Running the Simulation"
   ]
  },
  {
   "cell_type": "code",
   "execution_count": 1,
   "metadata": {},
   "outputs": [
    {
     "ename": "SyntaxError",
     "evalue": "invalid syntax (1724133551.py, line 6)",
     "output_type": "error",
     "traceback": [
      "\u001b[0;36m  Cell \u001b[0;32mIn[1], line 6\u001b[0;36m\u001b[0m\n\u001b[0;31m    ]pycxsimulator.GUI(parameterSetters=parameters).start(func=[initialize, observe, update])\u001b[0m\n\u001b[0m     ^\u001b[0m\n\u001b[0;31mSyntaxError\u001b[0m\u001b[0;31m:\u001b[0m invalid syntax\n"
     ]
    }
   ],
   "source": [
    "#| export\n",
    "parameters = [\n",
    "    # Simulation parameters\n",
    "    height, width, populationSize, numInfected,\n",
    "    infectionDistance, infectionRate, recoveryRate\n",
    "]\n",
    "pycxsimulator.GUI(parameterSetters=parameters).start(func=[initialize, observe, update])"
   ]
  },
  {
   "attachments": {},
   "cell_type": "markdown",
   "metadata": {},
   "source": [
    "# Implementation Using Mesa"
   ]
  },
  {
   "cell_type": "code",
   "execution_count": 3,
   "metadata": {},
   "outputs": [
    {
     "name": "stdout",
     "output_type": "stream",
     "text": [
      "Note: you may need to restart the kernel to use updated packages.\n"
     ]
    }
   ],
   "source": [
    "%pip install -Uqq mesa"
   ]
  },
  {
   "cell_type": "code",
   "execution_count": 4,
   "metadata": {},
   "outputs": [],
   "source": [
    "#| export\n",
    "from mesa import Agent, Model\n",
    "from mesa.time import RandomActivation\n",
    "from mesa.space import MultiGrid\n",
    "from mesa.datacollection import DataCollector\n",
    "import random"
   ]
  },
  {
   "cell_type": "code",
   "execution_count": null,
   "metadata": {},
   "outputs": [],
   "source": [
    "#| export\n",
    "class Person(Agent):\n",
    "    '''A person who can become infected or immune'''\n",
    "    def __init__(self, unique_id, model):\n",
    "        super().__init__(unique_id, model)\n",
    "        self.infected = False\n",
    "        self.immune = False\n",
    "\n",
    "    def move(self):\n",
    "        '''Move the person to a neighboring cell'''\n",
    "        possible_steps = self.model.grid.get_neighborhood(\n",
    "            self.pos,\n",
    "            moore=True,\n",
    "            include_center=False\n",
    "        )\n",
    "        new_position = random.choice(possible_steps)\n",
    "        self.model.grid.move_agent(self, new_position)\n",
    "\n",
    "    def infect(self):\n",
    "        '''Infect the person'''\n",
    "        self.infected = True\n",
    "\n",
    "    def step(self):\n",
    "        '''Advance the person by one step in time'''\n",
    "        self.move()\n",
    "        if self.infected:\n",
    "            self.immune = True\n",
    "            self.infected = False"
   ]
  },
  {
   "cell_type": "code",
   "execution_count": null,
   "metadata": {},
   "outputs": [],
   "source": [
    "#| hide\n",
    "import nbdev; nbdev.nbdev_export()"
   ]
  }
 ],
 "metadata": {
  "kernelspec": {
   "display_name": "Python 3 (ipykernel)",
   "language": "python",
   "name": "python3"
  },
  "language_info": {
   "codemirror_mode": {
    "name": "ipython",
    "version": 3
   },
   "file_extension": ".py",
   "mimetype": "text/x-python",
   "name": "python",
   "nbconvert_exporter": "python",
   "pygments_lexer": "ipython3",
   "version": "3.10.9"
  }
 },
 "nbformat": 4,
 "nbformat_minor": 4
}
